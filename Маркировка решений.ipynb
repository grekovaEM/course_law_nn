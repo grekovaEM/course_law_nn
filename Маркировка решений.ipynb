{
  "nbformat": 4,
  "nbformat_minor": 0,
  "metadata": {
    "colab": {
      "provenance": []
    },
    "kernelspec": {
      "name": "python3",
      "display_name": "Python 3"
    },
    "language_info": {
      "name": "python"
    }
  },
  "cells": [
    {
      "cell_type": "code",
      "execution_count": null,
      "metadata": {
        "id": "NyJi4Yvfx2UL"
      },
      "outputs": [],
      "source": [
        "import pandas as pd\n",
        "import os\n",
        "import re"
      ]
    },
    {
      "cell_type": "code",
      "source": [
        "# путь к папке с документами\n",
        "file_path = '/content/drive/MyDrive/Датасет_суд/full'"
      ],
      "metadata": {
        "id": "G_Cv8sF8cufE"
      },
      "execution_count": null,
      "outputs": []
    },
    {
      "cell_type": "code",
      "source": [
        "# все имена документов\n",
        "name_fils = os.listdir(file_path)"
      ],
      "metadata": {
        "id": "zfQDhHmc6Ae_"
      },
      "execution_count": null,
      "outputs": []
    },
    {
      "cell_type": "code",
      "source": [
        "len(name_fils)"
      ],
      "metadata": {
        "colab": {
          "base_uri": "https://localhost:8080/"
        },
        "id": "nuN2xMr3NMQ6",
        "outputId": "b17c3185-491f-4a65-8a84-2ea13bc39fa2"
      },
      "execution_count": null,
      "outputs": [
        {
          "output_type": "execute_result",
          "data": {
            "text/plain": [
              "1147"
            ]
          },
          "metadata": {},
          "execution_count": 6
        }
      ]
    },
    {
      "cell_type": "code",
      "source": [
        "# возвращаем текст документа по названию файла\n",
        "def get_text(name, file_path=file_path):\n",
        "  path = os.path.join(file_path, name)\n",
        "  f = open(path, 'r')\n",
        "  lines = f.readlines()\n",
        "  f.close()\n",
        "  return ' '.join(lines)"
      ],
      "metadata": {
        "id": "9be3tx7yJb2c"
      },
      "execution_count": null,
      "outputs": []
    },
    {
      "cell_type": "code",
      "source": [
        "# шаблон поиска резолютивной части\n",
        "pattern = r'суд\\s*[рР]\\s?[еЕ]\\s?[шШ]\\s?[иИ]\\s?[лЛ].*|Р\\s*Е\\s*Ш\\s*И\\s*Л.*|РЕШИЛ.*|ПОСТАНОВИЛ.*|суд[^.]*р\\s*е\\s*ш\\s*и\\s*л.*|п о с т а н о в и л.*|П О С Т А Н О В И Л.*|решил:.*|р е ш и л:.*|судпостановил:.*'"
      ],
      "metadata": {
        "id": "fB_R_Sgd3AoA"
      },
      "execution_count": null,
      "outputs": []
    },
    {
      "cell_type": "code",
      "source": [
        "# проверка и настройка поиска резолютивной части по заданному шаблону\n",
        "\n",
        "#dict_judgment = {}\n",
        "#for i in range(len(name_fils)):\n",
        "#  text = get_text(name_fils[i])\n",
        "#  dict_judgment[name_fils[i]] = re.search(pattern,text) is not None\n",
        "#data = pd.DataFrame({'название':list(dict_judgment.keys()) ,'шаблон1':list(dict_judgment.values())})\n",
        "#data.head()\n",
        "#data['шаблон1'].value_counts()"
      ],
      "metadata": {
        "id": "fEiFxXhtNSiX"
      },
      "execution_count": null,
      "outputs": []
    },
    {
      "cell_type": "code",
      "source": [
        "data = pd.DataFrame({'название':list(name_fils)})"
      ],
      "metadata": {
        "id": "Bwju9-qtcVmT"
      },
      "execution_count": null,
      "outputs": []
    },
    {
      "cell_type": "code",
      "source": [
        "data.head()"
      ],
      "metadata": {
        "colab": {
          "base_uri": "https://localhost:8080/",
          "height": 206
        },
        "id": "pr8wurrIcdbC",
        "outputId": "74be727f-9f4a-4c9b-be16-62727f92c016"
      },
      "execution_count": null,
      "outputs": [
        {
          "output_type": "execute_result",
          "data": {
            "text/plain": [
              "                 название\n",
              "0  тДЦ ╨Р01-4372_2021.txt\n",
              "1  тДЦ ╨Р36-7619_2020.txt\n",
              "2  тДЦ ╨Р33-4569_2022.txt\n",
              "3  тДЦ ╨Р81-2524_2022.txt\n",
              "4  тДЦ ╨Р03-1138_2022.txt"
            ],
            "text/html": [
              "\n",
              "  <div id=\"df-5b164598-a72b-4b9a-9a01-2ca6652e0139\">\n",
              "    <div class=\"colab-df-container\">\n",
              "      <div>\n",
              "<style scoped>\n",
              "    .dataframe tbody tr th:only-of-type {\n",
              "        vertical-align: middle;\n",
              "    }\n",
              "\n",
              "    .dataframe tbody tr th {\n",
              "        vertical-align: top;\n",
              "    }\n",
              "\n",
              "    .dataframe thead th {\n",
              "        text-align: right;\n",
              "    }\n",
              "</style>\n",
              "<table border=\"1\" class=\"dataframe\">\n",
              "  <thead>\n",
              "    <tr style=\"text-align: right;\">\n",
              "      <th></th>\n",
              "      <th>название</th>\n",
              "    </tr>\n",
              "  </thead>\n",
              "  <tbody>\n",
              "    <tr>\n",
              "      <th>0</th>\n",
              "      <td>тДЦ ╨Р01-4372_2021.txt</td>\n",
              "    </tr>\n",
              "    <tr>\n",
              "      <th>1</th>\n",
              "      <td>тДЦ ╨Р36-7619_2020.txt</td>\n",
              "    </tr>\n",
              "    <tr>\n",
              "      <th>2</th>\n",
              "      <td>тДЦ ╨Р33-4569_2022.txt</td>\n",
              "    </tr>\n",
              "    <tr>\n",
              "      <th>3</th>\n",
              "      <td>тДЦ ╨Р81-2524_2022.txt</td>\n",
              "    </tr>\n",
              "    <tr>\n",
              "      <th>4</th>\n",
              "      <td>тДЦ ╨Р03-1138_2022.txt</td>\n",
              "    </tr>\n",
              "  </tbody>\n",
              "</table>\n",
              "</div>\n",
              "      <button class=\"colab-df-convert\" onclick=\"convertToInteractive('df-5b164598-a72b-4b9a-9a01-2ca6652e0139')\"\n",
              "              title=\"Convert this dataframe to an interactive table.\"\n",
              "              style=\"display:none;\">\n",
              "        \n",
              "  <svg xmlns=\"http://www.w3.org/2000/svg\" height=\"24px\"viewBox=\"0 0 24 24\"\n",
              "       width=\"24px\">\n",
              "    <path d=\"M0 0h24v24H0V0z\" fill=\"none\"/>\n",
              "    <path d=\"M18.56 5.44l.94 2.06.94-2.06 2.06-.94-2.06-.94-.94-2.06-.94 2.06-2.06.94zm-11 1L8.5 8.5l.94-2.06 2.06-.94-2.06-.94L8.5 2.5l-.94 2.06-2.06.94zm10 10l.94 2.06.94-2.06 2.06-.94-2.06-.94-.94-2.06-.94 2.06-2.06.94z\"/><path d=\"M17.41 7.96l-1.37-1.37c-.4-.4-.92-.59-1.43-.59-.52 0-1.04.2-1.43.59L10.3 9.45l-7.72 7.72c-.78.78-.78 2.05 0 2.83L4 21.41c.39.39.9.59 1.41.59.51 0 1.02-.2 1.41-.59l7.78-7.78 2.81-2.81c.8-.78.8-2.07 0-2.86zM5.41 20L4 18.59l7.72-7.72 1.47 1.35L5.41 20z\"/>\n",
              "  </svg>\n",
              "      </button>\n",
              "      \n",
              "  <style>\n",
              "    .colab-df-container {\n",
              "      display:flex;\n",
              "      flex-wrap:wrap;\n",
              "      gap: 12px;\n",
              "    }\n",
              "\n",
              "    .colab-df-convert {\n",
              "      background-color: #E8F0FE;\n",
              "      border: none;\n",
              "      border-radius: 50%;\n",
              "      cursor: pointer;\n",
              "      display: none;\n",
              "      fill: #1967D2;\n",
              "      height: 32px;\n",
              "      padding: 0 0 0 0;\n",
              "      width: 32px;\n",
              "    }\n",
              "\n",
              "    .colab-df-convert:hover {\n",
              "      background-color: #E2EBFA;\n",
              "      box-shadow: 0px 1px 2px rgba(60, 64, 67, 0.3), 0px 1px 3px 1px rgba(60, 64, 67, 0.15);\n",
              "      fill: #174EA6;\n",
              "    }\n",
              "\n",
              "    [theme=dark] .colab-df-convert {\n",
              "      background-color: #3B4455;\n",
              "      fill: #D2E3FC;\n",
              "    }\n",
              "\n",
              "    [theme=dark] .colab-df-convert:hover {\n",
              "      background-color: #434B5C;\n",
              "      box-shadow: 0px 1px 3px 1px rgba(0, 0, 0, 0.15);\n",
              "      filter: drop-shadow(0px 1px 2px rgba(0, 0, 0, 0.3));\n",
              "      fill: #FFFFFF;\n",
              "    }\n",
              "  </style>\n",
              "\n",
              "      <script>\n",
              "        const buttonEl =\n",
              "          document.querySelector('#df-5b164598-a72b-4b9a-9a01-2ca6652e0139 button.colab-df-convert');\n",
              "        buttonEl.style.display =\n",
              "          google.colab.kernel.accessAllowed ? 'block' : 'none';\n",
              "\n",
              "        async function convertToInteractive(key) {\n",
              "          const element = document.querySelector('#df-5b164598-a72b-4b9a-9a01-2ca6652e0139');\n",
              "          const dataTable =\n",
              "            await google.colab.kernel.invokeFunction('convertToInteractive',\n",
              "                                                     [key], {});\n",
              "          if (!dataTable) return;\n",
              "\n",
              "          const docLinkHtml = 'Like what you see? Visit the ' +\n",
              "            '<a target=\"_blank\" href=https://colab.research.google.com/notebooks/data_table.ipynb>data table notebook</a>'\n",
              "            + ' to learn more about interactive tables.';\n",
              "          element.innerHTML = '';\n",
              "          dataTable['output_type'] = 'display_data';\n",
              "          await google.colab.output.renderOutput(dataTable, element);\n",
              "          const docLink = document.createElement('div');\n",
              "          docLink.innerHTML = docLinkHtml;\n",
              "          element.appendChild(docLink);\n",
              "        }\n",
              "      </script>\n",
              "    </div>\n",
              "  </div>\n",
              "  "
            ]
          },
          "metadata": {},
          "execution_count": 352
        }
      ]
    },
    {
      "cell_type": "code",
      "source": [
        "# продолжение проверки поиска резолютивной части по заданному шаблону\n",
        "\n",
        "#data[data['шаблон1']==False]['название']\n",
        "#data[data['шаблон1']==False]['название'].iloc[7]\n",
        "#name = data[data['шаблон1']==False]['название'].iloc[14]\n",
        "#text = get_text(name)\n",
        "#re.search(r'Р\\s*Е\\s*Ш\\s*И\\s*Л.*|РЕШИЛ.*|ПОСТАНОВИЛ.*|суд[^.]*р\\s*е\\s*ш\\s*и\\s*л.*|п о с т а н о в и л.*|П О С Т А Н О В И Л.*|решил:.*|р е ш и л:.*|судпостановил:.*',text)[0]"
      ],
      "metadata": {
        "id": "GIRqAvOLtoqe"
      },
      "execution_count": null,
      "outputs": []
    },
    {
      "cell_type": "code",
      "source": [
        "# вывод резолютивных частей\n",
        "\n",
        "#i = i+1\n",
        "#name = data['название'].iloc[i]\n",
        "#text = get_text(name)\n",
        "#re.search(pattern,text)[0]"
      ],
      "metadata": {
        "id": "uh_lISMZRjur"
      },
      "execution_count": null,
      "outputs": []
    },
    {
      "cell_type": "code",
      "source": [
        "# ключевые слова\n",
        "\n",
        "#удовлетворить\n",
        "#признать\n",
        "#привлечь\n",
        "#обязать\n",
        "#взыскать\n",
        "\n",
        "#отказать\n",
        "#оставить без изменения\n",
        "#оставить без удовлетворения\n",
        "#оставить заявление без удовлетворения"
      ],
      "metadata": {
        "id": "qNIDoainRjq_"
      },
      "execution_count": null,
      "outputs": []
    },
    {
      "cell_type": "code",
      "source": [
        "# код определяет решение суда по резолютивной части\n",
        "# (True, False) - положительное решение\n",
        "# (False, True) - отрицательное решение\n",
        "# (False, False) - необходима ручная проверка\n",
        "\n",
        "dict_judgment_pos_neg = {}\n",
        "for i in range(len(name_fils)):\n",
        "  text = get_text(name_fils[i])\n",
        "  text = re.search(pattern, text)[0]\n",
        "  pos = re.search('[Уу]довлетворить|[Пп]ризнать|[Пп]ринять|[Пп]ривлечь|[Оо]бязать|[Вв]зыскать', text)\n",
        "  neg = re.search('[Оо]тказать|[Оо]ставить без удовлетворения|[Оо]ставить без изменения|[Пп]рекратить|оставить заявление без удовлетворения',text)\n",
        "  pos_flag = pos is not None\n",
        "  neg_flag = neg is not None\n",
        "  if pos_flag and neg_flag:\n",
        "    if pos.start() < neg.start():\n",
        "      neg_flag = False\n",
        "    else:\n",
        "      pos_flag = False\n",
        "    #print(pos_flag,neg_flag)\n",
        "    #print(text)\n",
        "  dict_judgment_pos_neg[name_fils[i]] = (pos_flag,neg_flag)"
      ],
      "metadata": {
        "id": "Fbf6lHUmYsB0"
      },
      "execution_count": null,
      "outputs": []
    },
    {
      "cell_type": "code",
      "source": [
        "# имена документов для ручной проверки\n",
        "for i in range(len(name_fils)):\n",
        "  if dict_judgment_pos_neg[name_fils[i]] == (False, False):\n",
        "    print(name_fils[i])"
      ],
      "metadata": {
        "colab": {
          "base_uri": "https://localhost:8080/"
        },
        "id": "r_tfW77d6bGT",
        "outputId": "76a03efe-6fd7-416b-b5e9-eb6dce43b3ef"
      },
      "execution_count": null,
      "outputs": [
        {
          "output_type": "stream",
          "name": "stdout",
          "text": [
            "тДЦ ╨Р73-9884_2021.txt\n",
            "тДЦ ╨Р47-8023_2022.txt\n",
            "тДЦ ╨Р26-10925_2020.txt\n"
          ]
        }
      ]
    },
    {
      "cell_type": "code",
      "source": [
        "# тут можно вывести эти документы для ручной проверки\n",
        "#text = get_text('тДЦ ╨Р26-10925_2020.txt')\n",
        "#re.search(pattern,text)[0]"
      ],
      "metadata": {
        "colab": {
          "base_uri": "https://localhost:8080/",
          "height": 140
        },
        "id": "TY31a2t1YCEu",
        "outputId": "9ce83107-3b9a-41b7-af7f-c2e296c76036"
      },
      "execution_count": null,
      "outputs": [
        {
          "output_type": "execute_result",
          "data": {
            "text/plain": [
              "'п о с т а н о в и л:определение Арбитражного суда Республики Карелия от 24.01.2022 и постановление Тринадцатого арбитражного апелляционного суда от 20.05.2022 по делу № А26-10925/2020 отменить.Дело направить в Арбитражный суд Республики Карелия на новое рассмотрение.ПредседательствующийМ.В. ТроховаСудьиС.Г. КолесниковаТ.В. Кравченко Суд:АС Республики Карелия (подробнее)Иные лица:                                        Нефёдов Святослав Юрьевич (подробнее)                                                   ПАО Банк ВТБ (подробнее)                                                   Петрозаводский городской суд (подробнее)                                                   Сидаш Анна Сергеевна (подробнее)                                                   Сидаш Олег Иванович (подробнее)                                                   Хютте Евгений Викторович (подробнее)                                                   Администрация Петрозаводского городского округа (подробнее)                                                   Управление ГИБДД МВД РК (подробнее)                                                   Управление Росреестра по РК (подробнее)                                                   ФНС России УФНС ПО РК (подробнее)                                                   Министерство внутренних дел по Республике Карелия (подробнее)                                                   Управление Федеральной налоговой службы по Республике Карелия (подробнее)                                                   Инспекция Федеральной налоговой службы по г. Петрозаводску (подробнее)                                                   Союз арбитражных управляющих саморегулируемой организации \"Дело\" (подробнее)                                                   Межрайонная инспекция Федеральной налоговой службы №5 по Республике Карелия (подробнее)                                                   Управление Федеральной службы государственной регистрации, кадастра и картографии по Республике Карелия (подробнее)                                                   ПАО Северо-Западный банк Сбербанк (подробнее)                                                   Отдел адресно-справочной работы Управления Федеральной миграционной службы по Республике Карелия (подробнее)                                                   ООО \"АНАЛИТИЧЕСКАЯ ЛАБОРАТОРИЯ ЭКОЛОГИЧЕСКОГО МОНИТОРИНГА\" (подробнее)                                                   ООО \"Объединенная корпорация\" (подробнее)                                                   ООО \"Атлас-Маркет\" (подробнее)                                                   ПАО \"Сбербанк\" (подробнее)                                                   Ф/у Кузьменко Алексей Александрович (подробнее)Последние документы по делу:Постановление от 6 октября 2022 г. по делу № А26-10925/2020Постановление от 13 сентября 2021 г. по делу № А26-10925/2020Постановление от 9 июля 2021 г. по делу № А26-10925/2020Решение от 10 марта 2021 г. по делу № А26-10925/2020Показать все документы по этому делуСудебная практика по:Раздел имущества при разводеСудебная практика по разделу совместно нажитого имущества супругов, разделу квартиры'"
            ],
            "application/vnd.google.colaboratory.intrinsic+json": {
              "type": "string"
            }
          },
          "metadata": {},
          "execution_count": 330
        }
      ]
    },
    {
      "cell_type": "code",
      "source": [
        "#поиск документов с \"Принять отказ от исковых требований\"\n",
        "for i in range(len(name_fils)):\n",
        "  text = get_text(name_fils[i])\n",
        "  text = re.search(pattern, text)[0]\n",
        "  if re.search('[Пп]ринять отказ от исковых требований ', text) is not None:\n",
        "    print(name_fils[i])"
      ],
      "metadata": {
        "id": "jJV9qIAaYimE"
      },
      "execution_count": null,
      "outputs": []
    },
    {
      "cell_type": "code",
      "source": [
        "# Добавление решения суда в итоговую таблицу\n",
        "# True - положительное\n",
        "# False - отрицательное\n",
        "# None - нужна ручная проверка\n",
        "res = []\n",
        "for i in range(len(data['название'])):\n",
        "  name = data['название'].iloc[i]\n",
        "  if dict_judgment_pos_neg[name] == (True, False):\n",
        "    res.append(True)\n",
        "  elif dict_judgment_pos_neg[name] == (False, True):\n",
        "    res.append(False)\n",
        "  else:\n",
        "    res.append(None)\n",
        "\n",
        "data['решение'] = res"
      ],
      "metadata": {
        "id": "1ZFZls8XZEdc"
      },
      "execution_count": null,
      "outputs": []
    },
    {
      "cell_type": "code",
      "source": [
        "data.head()"
      ],
      "metadata": {
        "colab": {
          "base_uri": "https://localhost:8080/",
          "height": 206
        },
        "id": "9vUXmCykb3K9",
        "outputId": "9c5b9b6b-8276-45ca-846e-7c91627a949f"
      },
      "execution_count": null,
      "outputs": [
        {
          "output_type": "execute_result",
          "data": {
            "text/plain": [
              "                 название решение\n",
              "0  тДЦ ╨Р01-4372_2021.txt    True\n",
              "1  тДЦ ╨Р36-7619_2020.txt    True\n",
              "2  тДЦ ╨Р33-4569_2022.txt    True\n",
              "3  тДЦ ╨Р81-2524_2022.txt    True\n",
              "4  тДЦ ╨Р03-1138_2022.txt   False"
            ],
            "text/html": [
              "\n",
              "  <div id=\"df-afdc5045-1feb-432d-8580-803b39a5c08e\">\n",
              "    <div class=\"colab-df-container\">\n",
              "      <div>\n",
              "<style scoped>\n",
              "    .dataframe tbody tr th:only-of-type {\n",
              "        vertical-align: middle;\n",
              "    }\n",
              "\n",
              "    .dataframe tbody tr th {\n",
              "        vertical-align: top;\n",
              "    }\n",
              "\n",
              "    .dataframe thead th {\n",
              "        text-align: right;\n",
              "    }\n",
              "</style>\n",
              "<table border=\"1\" class=\"dataframe\">\n",
              "  <thead>\n",
              "    <tr style=\"text-align: right;\">\n",
              "      <th></th>\n",
              "      <th>название</th>\n",
              "      <th>решение</th>\n",
              "    </tr>\n",
              "  </thead>\n",
              "  <tbody>\n",
              "    <tr>\n",
              "      <th>0</th>\n",
              "      <td>тДЦ ╨Р01-4372_2021.txt</td>\n",
              "      <td>True</td>\n",
              "    </tr>\n",
              "    <tr>\n",
              "      <th>1</th>\n",
              "      <td>тДЦ ╨Р36-7619_2020.txt</td>\n",
              "      <td>True</td>\n",
              "    </tr>\n",
              "    <tr>\n",
              "      <th>2</th>\n",
              "      <td>тДЦ ╨Р33-4569_2022.txt</td>\n",
              "      <td>True</td>\n",
              "    </tr>\n",
              "    <tr>\n",
              "      <th>3</th>\n",
              "      <td>тДЦ ╨Р81-2524_2022.txt</td>\n",
              "      <td>True</td>\n",
              "    </tr>\n",
              "    <tr>\n",
              "      <th>4</th>\n",
              "      <td>тДЦ ╨Р03-1138_2022.txt</td>\n",
              "      <td>False</td>\n",
              "    </tr>\n",
              "  </tbody>\n",
              "</table>\n",
              "</div>\n",
              "      <button class=\"colab-df-convert\" onclick=\"convertToInteractive('df-afdc5045-1feb-432d-8580-803b39a5c08e')\"\n",
              "              title=\"Convert this dataframe to an interactive table.\"\n",
              "              style=\"display:none;\">\n",
              "        \n",
              "  <svg xmlns=\"http://www.w3.org/2000/svg\" height=\"24px\"viewBox=\"0 0 24 24\"\n",
              "       width=\"24px\">\n",
              "    <path d=\"M0 0h24v24H0V0z\" fill=\"none\"/>\n",
              "    <path d=\"M18.56 5.44l.94 2.06.94-2.06 2.06-.94-2.06-.94-.94-2.06-.94 2.06-2.06.94zm-11 1L8.5 8.5l.94-2.06 2.06-.94-2.06-.94L8.5 2.5l-.94 2.06-2.06.94zm10 10l.94 2.06.94-2.06 2.06-.94-2.06-.94-.94-2.06-.94 2.06-2.06.94z\"/><path d=\"M17.41 7.96l-1.37-1.37c-.4-.4-.92-.59-1.43-.59-.52 0-1.04.2-1.43.59L10.3 9.45l-7.72 7.72c-.78.78-.78 2.05 0 2.83L4 21.41c.39.39.9.59 1.41.59.51 0 1.02-.2 1.41-.59l7.78-7.78 2.81-2.81c.8-.78.8-2.07 0-2.86zM5.41 20L4 18.59l7.72-7.72 1.47 1.35L5.41 20z\"/>\n",
              "  </svg>\n",
              "      </button>\n",
              "      \n",
              "  <style>\n",
              "    .colab-df-container {\n",
              "      display:flex;\n",
              "      flex-wrap:wrap;\n",
              "      gap: 12px;\n",
              "    }\n",
              "\n",
              "    .colab-df-convert {\n",
              "      background-color: #E8F0FE;\n",
              "      border: none;\n",
              "      border-radius: 50%;\n",
              "      cursor: pointer;\n",
              "      display: none;\n",
              "      fill: #1967D2;\n",
              "      height: 32px;\n",
              "      padding: 0 0 0 0;\n",
              "      width: 32px;\n",
              "    }\n",
              "\n",
              "    .colab-df-convert:hover {\n",
              "      background-color: #E2EBFA;\n",
              "      box-shadow: 0px 1px 2px rgba(60, 64, 67, 0.3), 0px 1px 3px 1px rgba(60, 64, 67, 0.15);\n",
              "      fill: #174EA6;\n",
              "    }\n",
              "\n",
              "    [theme=dark] .colab-df-convert {\n",
              "      background-color: #3B4455;\n",
              "      fill: #D2E3FC;\n",
              "    }\n",
              "\n",
              "    [theme=dark] .colab-df-convert:hover {\n",
              "      background-color: #434B5C;\n",
              "      box-shadow: 0px 1px 3px 1px rgba(0, 0, 0, 0.15);\n",
              "      filter: drop-shadow(0px 1px 2px rgba(0, 0, 0, 0.3));\n",
              "      fill: #FFFFFF;\n",
              "    }\n",
              "  </style>\n",
              "\n",
              "      <script>\n",
              "        const buttonEl =\n",
              "          document.querySelector('#df-afdc5045-1feb-432d-8580-803b39a5c08e button.colab-df-convert');\n",
              "        buttonEl.style.display =\n",
              "          google.colab.kernel.accessAllowed ? 'block' : 'none';\n",
              "\n",
              "        async function convertToInteractive(key) {\n",
              "          const element = document.querySelector('#df-afdc5045-1feb-432d-8580-803b39a5c08e');\n",
              "          const dataTable =\n",
              "            await google.colab.kernel.invokeFunction('convertToInteractive',\n",
              "                                                     [key], {});\n",
              "          if (!dataTable) return;\n",
              "\n",
              "          const docLinkHtml = 'Like what you see? Visit the ' +\n",
              "            '<a target=\"_blank\" href=https://colab.research.google.com/notebooks/data_table.ipynb>data table notebook</a>'\n",
              "            + ' to learn more about interactive tables.';\n",
              "          element.innerHTML = '';\n",
              "          dataTable['output_type'] = 'display_data';\n",
              "          await google.colab.output.renderOutput(dataTable, element);\n",
              "          const docLink = document.createElement('div');\n",
              "          docLink.innerHTML = docLinkHtml;\n",
              "          element.appendChild(docLink);\n",
              "        }\n",
              "      </script>\n",
              "    </div>\n",
              "  </div>\n",
              "  "
            ]
          },
          "metadata": {},
          "execution_count": 358
        }
      ]
    },
    {
      "cell_type": "code",
      "source": [
        "data.to_csv('data.csv', header=True)"
      ],
      "metadata": {
        "id": "gXP074T4fRZS"
      },
      "execution_count": null,
      "outputs": []
    }
  ]
}